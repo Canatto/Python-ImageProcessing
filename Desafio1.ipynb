{
 "cells": [
  {
   "cell_type": "markdown",
   "metadata": {},
   "source": [
    "# Desafio 1 - Aula1"
   ]
  },
  {
   "cell_type": "markdown",
   "metadata": {},
   "source": [
    "### Nome: Jonny Silva Canatto\n",
    "### RM: 332439"
   ]
  },
  {
   "cell_type": "code",
   "execution_count": 105,
   "metadata": {},
   "outputs": [],
   "source": [
    "#realizando imports\n",
    "import cv2\n",
    "import numpy as np\n",
    "import pandas as pd\n",
    "import matplotlib.image as mpimg\n",
    "import matplotlib.pyplot as plt"
   ]
  },
  {
   "cell_type": "code",
   "execution_count": 106,
   "metadata": {},
   "outputs": [],
   "source": [
    "#Definição das funções\n",
    "colors = {\"b\": 0, \"g\": 1, \"r\": 2}\n",
    "\n",
    "def histogram_bgr(image):\n",
    "    blue = cv2.calcHist([image],[0],None,[256],[0,256])\n",
    "    green = cv2.calcHist([image],[1],None,[256],[0,256])   \n",
    "    red = cv2.calcHist([image],[2],None,[256],[0,256])\n",
    "    return blue,green,red\n",
    "\n",
    "def color_qtd_index(b,g,r):\n",
    "    if(b.max() > max(r.max(),g.max())):\n",
    "        plt.imshow([[(0/255, 0/255, b.argmax()/255)]])\n",
    "        return {'color':'blue', 'qtd':b.max(), 'intensity':b.argmax()}    \n",
    "    \n",
    "    if(g.max() > max(r.max(),b.max())):\n",
    "        plt.imshow([[(0/255, g.argmax()/255, 0/255)]])\n",
    "        return {'color':'green', 'qtd':g.max(), 'intensity':g.argmax()}\n",
    "    \n",
    "    if(r.max() > max(b.max(),g.max())):\n",
    "        plt.imshow([[(r.argmax()/255, 0/255, 0/255)]])\n",
    "        return {'color':'red', 'qtd':r.max(), 'intensity':r.argmax()}"
   ]
  },
  {
   "cell_type": "code",
   "execution_count": 107,
   "metadata": {},
   "outputs": [],
   "source": [
    "#Função que retorna cor predominante\n",
    "def cor_predominante(path):\n",
    "    image_seven = cv2.imread(path)\n",
    "    b,g,r = histogram_bgr(image_seven)\n",
    "    return color_qtd_index(b,g,r)"
   ]
  },
  {
   "cell_type": "code",
   "execution_count": 108,
   "metadata": {},
   "outputs": [
    {
     "name": "stdout",
     "output_type": "stream",
     "text": [
      "Imagem 1:\n",
      "{'color': 'blue', 'qtd': 23397.0, 'intensity': 0}\n"
     ]
    },
    {
     "data": {
      "image/png": "[encoded data removed]",
      "text/plain": [
       "<Figure size 432x288 with 1 Axes>"
      ]
     },
     "metadata": {
      "needs_background": "light"
     },
     "output_type": "display_data"
    }
   ],
   "source": [
    "#Chama a função para as 3 imagens de teste\n",
    "print('Imagem 1:')\n",
    "img1 = mpimg.imread(\"aula-1-introducao-visao-computacional/desafio-1/imagens/futebol.jpg\")\n",
    "plt.imshow(img1)\n",
    "cor = cor_predominante(\"aula-1-introducao-visao-computacional/desafio-1/imagens/futebol.jpg\")\n",
    "print(cor)"
   ]
  },
  {
   "cell_type": "code",
   "execution_count": 109,
   "metadata": {},
   "outputs": [
    {
     "name": "stdout",
     "output_type": "stream",
     "text": [
      "Imagem 2:\n",
      "{'color': 'red', 'qtd': 3550.0, 'intensity': 193}\n"
     ]
    },
    {
     "data": {
      "image/png": "[encoded data removed]",
      "text/plain": [
       "<Figure size 432x288 with 1 Axes>"
      ]
     },
     "metadata": {
      "needs_background": "light"
     },
     "output_type": "display_data"
    }
   ],
   "source": [
    "print('Imagem 2:')\n",
    "img2 = mpimg.imread(\"aula-1-introducao-visao-computacional/desafio-1/imagens/moda.jpg\")\n",
    "plt.imshow(img2)\n",
    "cor = cor_predominante(\"aula-1-introducao-visao-computacional/desafio-1/imagens/moda.jpg\")\n",
    "print(cor)"
   ]
  },
  {
   "cell_type": "code",
   "execution_count": 110,
   "metadata": {},
   "outputs": [
    {
     "name": "stdout",
     "output_type": "stream",
     "text": [
      "Imagem 3:\n",
      "{'color': 'red', 'qtd': 238550.0, 'intensity': 255}\n"
     ]
    },
    {
     "data": {
      "image/png": "[encoded data removed]",
      "text/plain": [
       "<Figure size 432x288 with 1 Axes>"
      ]
     },
     "metadata": {
      "needs_background": "light"
     },
     "output_type": "display_data"
    }
   ],
   "source": [
    "print('Imagem 3:')\n",
    "img3 = mpimg.imread(\"aula-1-introducao-visao-computacional/desafio-1/imagens/simpsons.jpeg\")\n",
    "plt.imshow(img3)\n",
    "cor = cor_predominante(\"aula-1-introducao-visao-computacional/desafio-1/imagens/simpsons.jpeg\")\n",
    "print(cor)"
   ]
  },
  {
   "cell_type": "code",
   "execution_count": null,
   "metadata": {},
   "outputs": [],
   "source": []
  }
 ],
 "metadata": {
  "kernelspec": {
   "display_name": "Python 3",
   "language": "python",
   "name": "python3"
  },
  "language_info": {
   "codemirror_mode": {
    "name": "ipython",
    "version": 3
   },
   "file_extension": ".py",
   "mimetype": "text/x-python",
   "name": "python",
   "nbconvert_exporter": "python",
   "pygments_lexer": "ipython3",
   "version": "3.7.1"
  }
 },
 "nbformat": 4,
 "nbformat_minor": 2
}
